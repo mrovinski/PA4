{
 "cells": [
  {
   "cell_type": "markdown",
   "metadata": {},
   "source": [
    "# Programming Assignment 4\n",
    "\n",
    "**Author:** Molly Rovinski\n",
    "\n",
    "**Version:** 1.0\n",
    "\n",
    "**Semester:** Fall 2020"
   ]
  },
  {
   "cell_type": "markdown",
   "metadata": {},
   "source": [
    "**Problem A:** Write a function that will accept a list as an argument and return a copy of the list with the first and last element swapped. "
   ]
  },
  {
   "cell_type": "code",
   "execution_count": 118,
   "metadata": {},
   "outputs": [
    {
     "data": {
      "text/plain": [
       "[2, 8, 12, 37, 15, 83, 21, 7]"
      ]
     },
     "execution_count": 118,
     "metadata": {},
     "output_type": "execute_result"
    }
   ],
   "source": [
    "numbers = [7,8,12,37,15,83,21,2]\n",
    "\n",
    "def swap_first_last(numbers):\n",
    "    nums = numbers.copy()\n",
    "    temp = numbers[0]\n",
    "    nums[0] = nums[len(nums)-1]\n",
    "    nums[len(nums)-1] = temp\n",
    "    return nums\n",
    "\n",
    "swap_first_last(numbers)"
   ]
  },
  {
   "cell_type": "code",
   "execution_count": 119,
   "metadata": {},
   "outputs": [
    {
     "data": {
      "text/plain": [
       "[7, 8, 12, 37, 15, 83, 21, 2]"
      ]
     },
     "execution_count": 119,
     "metadata": {},
     "output_type": "execute_result"
    }
   ],
   "source": [
    "numbers"
   ]
  },
  {
   "cell_type": "markdown",
   "metadata": {},
   "source": [
    "**Problem B:** Write a function that will accept a list as an argument and return a copy of a list with even numbers replaced by 1 and odd numbers replaced by -1. "
   ]
  },
  {
   "cell_type": "code",
   "execution_count": 121,
   "metadata": {},
   "outputs": [
    {
     "data": {
      "text/plain": [
       "[1, 1, -1, 1, 1, 1, 1, -1, -1]"
      ]
     },
     "execution_count": 121,
     "metadata": {},
     "output_type": "execute_result"
    }
   ],
   "source": [
    "numbers1 = [8,12,45,20,92,72,94,1,23]\n",
    "\n",
    "def encode(num):\n",
    "    cop = num.copy()\n",
    "    for x in range(len(cop)):\n",
    "        if cop[x] % 2 != 0:\n",
    "            cop[x] = -1\n",
    "        else:\n",
    "            cop[x] = 1\n",
    "    return cop\n",
    "\n",
    "encode(numbers1)"
   ]
  },
  {
   "cell_type": "code",
   "execution_count": 122,
   "metadata": {},
   "outputs": [
    {
     "data": {
      "text/plain": [
       "[8, 12, 45, 20, 92, 72, 94, 1, 23]"
      ]
     },
     "execution_count": 122,
     "metadata": {},
     "output_type": "execute_result"
    }
   ],
   "source": [
    "numbers1"
   ]
  },
  {
   "cell_type": "markdown",
   "metadata": {},
   "source": [
    "**Problem C:** Write a function that will acept a three element tuple and rotate it. "
   ]
  },
  {
   "cell_type": "code",
   "execution_count": 124,
   "metadata": {},
   "outputs": [
    {
     "data": {
      "text/plain": [
       "(41, 'John', 'Kennedy')"
      ]
     },
     "execution_count": 124,
     "metadata": {},
     "output_type": "execute_result"
    }
   ],
   "source": [
    "tup = ('John','Kennedy', 41)\n",
    "\n",
    "def rotate(original):\n",
    "    a = original[2]\n",
    "    b = original[0]\n",
    "    c = original[1]\n",
    "    return a,b,c\n",
    "\n",
    "rotate(tup)"
   ]
  }
 ],
 "metadata": {
  "kernelspec": {
   "display_name": "Python 3",
   "language": "python",
   "name": "python3"
  },
  "language_info": {
   "codemirror_mode": {
    "name": "ipython",
    "version": 3
   },
   "file_extension": ".py",
   "mimetype": "text/x-python",
   "name": "python",
   "nbconvert_exporter": "python",
   "pygments_lexer": "ipython3",
   "version": "3.8.3"
  }
 },
 "nbformat": 4,
 "nbformat_minor": 4
}
